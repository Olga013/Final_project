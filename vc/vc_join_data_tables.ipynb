{
 "cells": [
  {
   "cell_type": "code",
   "execution_count": 1,
   "id": "0e3605c7",
   "metadata": {},
   "outputs": [],
   "source": [
    "import os\n",
    "import json\n",
    "import re\n",
    "from tqdm import tqdm\n",
    "import pickle\n",
    "import itertools\n",
    "import networkx as nx\n",
    "from matplotlib import pyplot as plt\n",
    "import networkx\n",
    "import pandas as pd\n",
    "import pickle"
   ]
  },
  {
   "cell_type": "code",
   "execution_count": 38,
   "id": "567bc377",
   "metadata": {},
   "outputs": [],
   "source": [
    "#df_texts = pd.read_csv('./dtf/df_texts.csv')\n",
    "df_info = pd.read_csv('./vc/df_info.csv')"
   ]
  },
  {
   "cell_type": "code",
   "execution_count": 64,
   "id": "722f6998",
   "metadata": {},
   "outputs": [],
   "source": [
    "df_sentiment = pd.read_csv('./vc/vc_ru_average_sentiment.csv')\n",
    "df_sentiment['post_id'] = df_sentiment['post_id'].astype(int)"
   ]
  },
  {
   "cell_type": "code",
   "execution_count": 7,
   "id": "b8e99a2b",
   "metadata": {},
   "outputs": [],
   "source": [
    "with open('./vc/vc_extracted_words.pkl', 'rb') as f:\n",
    "    extracted_words = pickle.load(f)"
   ]
  },
  {
   "cell_type": "code",
   "execution_count": 15,
   "id": "f351251a",
   "metadata": {},
   "outputs": [],
   "source": [
    "with open('companies_vc.txt', 'r') as f:\n",
    "    companies_vc = f.read()"
   ]
  },
  {
   "cell_type": "code",
   "execution_count": 16,
   "id": "b445a07d",
   "metadata": {},
   "outputs": [
    {
     "data": {
      "text/plain": [
       "476"
      ]
     },
     "execution_count": 16,
     "metadata": {},
     "output_type": "execute_result"
    }
   ],
   "source": [
    "len(companies.split('\\n'))"
   ]
  },
  {
   "cell_type": "code",
   "execution_count": 17,
   "id": "608e4414",
   "metadata": {},
   "outputs": [],
   "source": [
    "companies_vc = companies_vc.split('\\n')\n",
    "companies = set(companies_vc)"
   ]
  },
  {
   "cell_type": "code",
   "execution_count": 18,
   "id": "a4d2f313",
   "metadata": {},
   "outputs": [],
   "source": [
    "stop_words = set(['set', \n",
    "                  'далее', \n",
    "                  'развитие', \n",
    "                  'алгоритмы', \n",
    "                  'мария', \n",
    "                  'red', \n",
    "                  'main', \n",
    "                  'стартап', \n",
    "                  'бюро', \n",
    "                  'id', \n",
    "                  'поиск', \n",
    "                  'ясно',\n",
    "                  'интерес',\n",
    "                  'we',\n",
    "                  'fl',\n",
    "                  'too',\n",
    "                  'успех',\n",
    "                  'система'])"
   ]
  },
  {
   "cell_type": "code",
   "execution_count": 19,
   "id": "a0b537d1",
   "metadata": {},
   "outputs": [],
   "source": [
    "companies.add('mail.ru')\n",
    "companies.add('mail')\n",
    "companies.add('mail.ru group')\n",
    "companies.add('мэйл')\n",
    "#companies.add('facebook')\n",
    "#companies.add('meta')\n",
    "companies = companies - stop_words"
   ]
  },
  {
   "cell_type": "code",
   "execution_count": 20,
   "id": "3cefaf0d",
   "metadata": {},
   "outputs": [],
   "source": [
    "extracted_companies = {}\n",
    "for key in extracted_words.keys():\n",
    "    for word in extracted_words[key]:\n",
    "        if word in companies:\n",
    "            if not key in extracted_companies.keys():\n",
    "                extracted_companies[key] = []\n",
    "            extracted_companies[key].append(word)"
   ]
  },
  {
   "cell_type": "code",
   "execution_count": 22,
   "id": "f0f39daa",
   "metadata": {},
   "outputs": [],
   "source": [
    "for key in extracted_companies.keys():\n",
    "    extracted_companies[key] = list(set(extracted_companies[key]))"
   ]
  },
  {
   "cell_type": "code",
   "execution_count": 23,
   "id": "318b91fe",
   "metadata": {},
   "outputs": [],
   "source": [
    "extracted_companies_ = {}\n",
    "for key in extracted_companies.keys():\n",
    "    extracted_companies_[key] = ';'.join(extracted_companies[key])"
   ]
  },
  {
   "cell_type": "code",
   "execution_count": 50,
   "id": "96f6e671",
   "metadata": {},
   "outputs": [],
   "source": [
    "df_companies = pd.DataFrame(extracted_companies_, index=[0]).T.reset_index().rename({0:'companies', 'index': 'doc_id'}, axis=1)"
   ]
  },
  {
   "cell_type": "code",
   "execution_count": 51,
   "id": "28ecb2f5",
   "metadata": {},
   "outputs": [],
   "source": [
    "df_companies.to_csv('./vc/df_comp.csv', index=False)"
   ]
  },
  {
   "cell_type": "code",
   "execution_count": 52,
   "id": "bf6154f3",
   "metadata": {},
   "outputs": [],
   "source": [
    "df_companies['companies'] = df_companies['companies'].str.split(';')\n",
    "df_companies = df_companies.explode('companies').rename({'index': 'doc_id'},axis=1)#.reset_index()"
   ]
  },
  {
   "cell_type": "code",
   "execution_count": 53,
   "id": "22bcc408",
   "metadata": {},
   "outputs": [],
   "source": [
    "df_info['doc_id'] = df_info['doc_id'].astype(int)\n",
    "df_companies['doc_id'] = df_companies['doc_id'].astype(int)\n",
    "\n"
   ]
  },
  {
   "cell_type": "code",
   "execution_count": 54,
   "id": "3a187e99",
   "metadata": {},
   "outputs": [],
   "source": [
    "df_companies_info = df_companies.merge(df_info, how='left', on='doc_id').groupby('companies').agg({'commentsCount':'mean', 'hitsCount': 'mean', 'likes': 'mean'}).reset_index()"
   ]
  },
  {
   "cell_type": "code",
   "execution_count": 56,
   "id": "642ab235",
   "metadata": {},
   "outputs": [],
   "source": [
    "df_companies_info.to_csv('./vc/vc_likes.csv', index=False)"
   ]
  },
  {
   "cell_type": "code",
   "execution_count": 65,
   "id": "e7bbe76b",
   "metadata": {},
   "outputs": [
    {
     "data": {
      "text/html": [
       "<div>\n",
       "<style scoped>\n",
       "    .dataframe tbody tr th:only-of-type {\n",
       "        vertical-align: middle;\n",
       "    }\n",
       "\n",
       "    .dataframe tbody tr th {\n",
       "        vertical-align: top;\n",
       "    }\n",
       "\n",
       "    .dataframe thead th {\n",
       "        text-align: right;\n",
       "    }\n",
       "</style>\n",
       "<table border=\"1\" class=\"dataframe\">\n",
       "  <thead>\n",
       "    <tr style=\"text-align: right;\">\n",
       "      <th></th>\n",
       "      <th>post_id</th>\n",
       "      <th>neutral</th>\n",
       "      <th>negative</th>\n",
       "      <th>positive</th>\n",
       "      <th>skip</th>\n",
       "      <th>speech</th>\n",
       "    </tr>\n",
       "  </thead>\n",
       "  <tbody>\n",
       "    <tr>\n",
       "      <th>0</th>\n",
       "      <td>1</td>\n",
       "      <td>0.000000</td>\n",
       "      <td>0.808077</td>\n",
       "      <td>0.000000</td>\n",
       "      <td>0.461027</td>\n",
       "      <td>0.000000</td>\n",
       "    </tr>\n",
       "    <tr>\n",
       "      <th>1</th>\n",
       "      <td>158</td>\n",
       "      <td>0.995678</td>\n",
       "      <td>0.000000</td>\n",
       "      <td>0.051855</td>\n",
       "      <td>0.000000</td>\n",
       "      <td>0.000000</td>\n",
       "    </tr>\n",
       "    <tr>\n",
       "      <th>2</th>\n",
       "      <td>393</td>\n",
       "      <td>0.000000</td>\n",
       "      <td>0.377551</td>\n",
       "      <td>0.000000</td>\n",
       "      <td>0.468801</td>\n",
       "      <td>0.000000</td>\n",
       "    </tr>\n",
       "    <tr>\n",
       "      <th>3</th>\n",
       "      <td>647</td>\n",
       "      <td>0.970041</td>\n",
       "      <td>0.000000</td>\n",
       "      <td>0.000000</td>\n",
       "      <td>0.046136</td>\n",
       "      <td>0.000000</td>\n",
       "    </tr>\n",
       "    <tr>\n",
       "      <th>4</th>\n",
       "      <td>757</td>\n",
       "      <td>0.904661</td>\n",
       "      <td>0.000000</td>\n",
       "      <td>0.000000</td>\n",
       "      <td>0.046044</td>\n",
       "      <td>0.000000</td>\n",
       "    </tr>\n",
       "    <tr>\n",
       "      <th>...</th>\n",
       "      <td>...</td>\n",
       "      <td>...</td>\n",
       "      <td>...</td>\n",
       "      <td>...</td>\n",
       "      <td>...</td>\n",
       "      <td>...</td>\n",
       "    </tr>\n",
       "    <tr>\n",
       "      <th>105838</th>\n",
       "      <td>299968</td>\n",
       "      <td>0.641929</td>\n",
       "      <td>0.233717</td>\n",
       "      <td>0.011210</td>\n",
       "      <td>0.039318</td>\n",
       "      <td>0.000000</td>\n",
       "    </tr>\n",
       "    <tr>\n",
       "      <th>105839</th>\n",
       "      <td>299970</td>\n",
       "      <td>0.631669</td>\n",
       "      <td>0.045514</td>\n",
       "      <td>0.100534</td>\n",
       "      <td>0.007674</td>\n",
       "      <td>0.016815</td>\n",
       "    </tr>\n",
       "    <tr>\n",
       "      <th>105840</th>\n",
       "      <td>299974</td>\n",
       "      <td>0.698315</td>\n",
       "      <td>0.084865</td>\n",
       "      <td>0.022162</td>\n",
       "      <td>0.020689</td>\n",
       "      <td>0.100033</td>\n",
       "    </tr>\n",
       "    <tr>\n",
       "      <th>105841</th>\n",
       "      <td>299975</td>\n",
       "      <td>0.736408</td>\n",
       "      <td>0.167973</td>\n",
       "      <td>0.019059</td>\n",
       "      <td>0.018632</td>\n",
       "      <td>0.003353</td>\n",
       "    </tr>\n",
       "    <tr>\n",
       "      <th>105842</th>\n",
       "      <td>299993</td>\n",
       "      <td>0.538919</td>\n",
       "      <td>0.282386</td>\n",
       "      <td>0.043989</td>\n",
       "      <td>0.042892</td>\n",
       "      <td>0.000000</td>\n",
       "    </tr>\n",
       "  </tbody>\n",
       "</table>\n",
       "<p>105843 rows × 6 columns</p>\n",
       "</div>"
      ],
      "text/plain": [
       "        post_id   neutral  negative  positive      skip    speech\n",
       "0             1  0.000000  0.808077  0.000000  0.461027  0.000000\n",
       "1           158  0.995678  0.000000  0.051855  0.000000  0.000000\n",
       "2           393  0.000000  0.377551  0.000000  0.468801  0.000000\n",
       "3           647  0.970041  0.000000  0.000000  0.046136  0.000000\n",
       "4           757  0.904661  0.000000  0.000000  0.046044  0.000000\n",
       "...         ...       ...       ...       ...       ...       ...\n",
       "105838   299968  0.641929  0.233717  0.011210  0.039318  0.000000\n",
       "105839   299970  0.631669  0.045514  0.100534  0.007674  0.016815\n",
       "105840   299974  0.698315  0.084865  0.022162  0.020689  0.100033\n",
       "105841   299975  0.736408  0.167973  0.019059  0.018632  0.003353\n",
       "105842   299993  0.538919  0.282386  0.043989  0.042892  0.000000\n",
       "\n",
       "[105843 rows x 6 columns]"
      ]
     },
     "execution_count": 65,
     "metadata": {},
     "output_type": "execute_result"
    }
   ],
   "source": [
    "df_sentiment"
   ]
  },
  {
   "cell_type": "code",
   "execution_count": 68,
   "id": "c64c1cc3",
   "metadata": {},
   "outputs": [],
   "source": [
    "df_companies_sent = df_companies.merge(df_sentiment, how='left', left_on='doc_id', right_on='post_id').fillna(0)"
   ]
  },
  {
   "cell_type": "code",
   "execution_count": 69,
   "id": "ab65805d",
   "metadata": {},
   "outputs": [
    {
     "data": {
      "text/html": [
       "<div>\n",
       "<style scoped>\n",
       "    .dataframe tbody tr th:only-of-type {\n",
       "        vertical-align: middle;\n",
       "    }\n",
       "\n",
       "    .dataframe tbody tr th {\n",
       "        vertical-align: top;\n",
       "    }\n",
       "\n",
       "    .dataframe thead th {\n",
       "        text-align: right;\n",
       "    }\n",
       "</style>\n",
       "<table border=\"1\" class=\"dataframe\">\n",
       "  <thead>\n",
       "    <tr style=\"text-align: right;\">\n",
       "      <th></th>\n",
       "      <th>doc_id</th>\n",
       "      <th>companies</th>\n",
       "      <th>post_id</th>\n",
       "      <th>neutral</th>\n",
       "      <th>negative</th>\n",
       "      <th>positive</th>\n",
       "      <th>skip</th>\n",
       "      <th>speech</th>\n",
       "    </tr>\n",
       "  </thead>\n",
       "  <tbody>\n",
       "    <tr>\n",
       "      <th>0</th>\n",
       "      <td>159</td>\n",
       "      <td>вконтакте</td>\n",
       "      <td>0.0</td>\n",
       "      <td>0.0</td>\n",
       "      <td>0.0</td>\n",
       "      <td>0.0</td>\n",
       "      <td>0.0</td>\n",
       "      <td>0.0</td>\n",
       "    </tr>\n",
       "    <tr>\n",
       "      <th>1</th>\n",
       "      <td>308</td>\n",
       "      <td>макс</td>\n",
       "      <td>0.0</td>\n",
       "      <td>0.0</td>\n",
       "      <td>0.0</td>\n",
       "      <td>0.0</td>\n",
       "      <td>0.0</td>\n",
       "      <td>0.0</td>\n",
       "    </tr>\n",
       "    <tr>\n",
       "      <th>2</th>\n",
       "      <td>318</td>\n",
       "      <td>макс</td>\n",
       "      <td>0.0</td>\n",
       "      <td>0.0</td>\n",
       "      <td>0.0</td>\n",
       "      <td>0.0</td>\n",
       "      <td>0.0</td>\n",
       "      <td>0.0</td>\n",
       "    </tr>\n",
       "    <tr>\n",
       "      <th>3</th>\n",
       "      <td>322</td>\n",
       "      <td>макс</td>\n",
       "      <td>0.0</td>\n",
       "      <td>0.0</td>\n",
       "      <td>0.0</td>\n",
       "      <td>0.0</td>\n",
       "      <td>0.0</td>\n",
       "      <td>0.0</td>\n",
       "    </tr>\n",
       "    <tr>\n",
       "      <th>4</th>\n",
       "      <td>368</td>\n",
       "      <td>одноклассники</td>\n",
       "      <td>0.0</td>\n",
       "      <td>0.0</td>\n",
       "      <td>0.0</td>\n",
       "      <td>0.0</td>\n",
       "      <td>0.0</td>\n",
       "      <td>0.0</td>\n",
       "    </tr>\n",
       "    <tr>\n",
       "      <th>...</th>\n",
       "      <td>...</td>\n",
       "      <td>...</td>\n",
       "      <td>...</td>\n",
       "      <td>...</td>\n",
       "      <td>...</td>\n",
       "      <td>...</td>\n",
       "      <td>...</td>\n",
       "      <td>...</td>\n",
       "    </tr>\n",
       "    <tr>\n",
       "      <th>84792</th>\n",
       "      <td>299982</td>\n",
       "      <td>mail</td>\n",
       "      <td>0.0</td>\n",
       "      <td>0.0</td>\n",
       "      <td>0.0</td>\n",
       "      <td>0.0</td>\n",
       "      <td>0.0</td>\n",
       "      <td>0.0</td>\n",
       "    </tr>\n",
       "    <tr>\n",
       "      <th>84793</th>\n",
       "      <td>299986</td>\n",
       "      <td>skyeng</td>\n",
       "      <td>0.0</td>\n",
       "      <td>0.0</td>\n",
       "      <td>0.0</td>\n",
       "      <td>0.0</td>\n",
       "      <td>0.0</td>\n",
       "      <td>0.0</td>\n",
       "    </tr>\n",
       "    <tr>\n",
       "      <th>84794</th>\n",
       "      <td>299987</td>\n",
       "      <td>яндекс</td>\n",
       "      <td>0.0</td>\n",
       "      <td>0.0</td>\n",
       "      <td>0.0</td>\n",
       "      <td>0.0</td>\n",
       "      <td>0.0</td>\n",
       "      <td>0.0</td>\n",
       "    </tr>\n",
       "    <tr>\n",
       "      <th>84795</th>\n",
       "      <td>299995</td>\n",
       "      <td>spotify</td>\n",
       "      <td>0.0</td>\n",
       "      <td>0.0</td>\n",
       "      <td>0.0</td>\n",
       "      <td>0.0</td>\n",
       "      <td>0.0</td>\n",
       "      <td>0.0</td>\n",
       "    </tr>\n",
       "    <tr>\n",
       "      <th>84796</th>\n",
       "      <td>299999</td>\n",
       "      <td>spotify</td>\n",
       "      <td>0.0</td>\n",
       "      <td>0.0</td>\n",
       "      <td>0.0</td>\n",
       "      <td>0.0</td>\n",
       "      <td>0.0</td>\n",
       "      <td>0.0</td>\n",
       "    </tr>\n",
       "  </tbody>\n",
       "</table>\n",
       "<p>84797 rows × 8 columns</p>\n",
       "</div>"
      ],
      "text/plain": [
       "       doc_id      companies  post_id  neutral  negative  positive  skip  \\\n",
       "0         159      вконтакте      0.0      0.0       0.0       0.0   0.0   \n",
       "1         308           макс      0.0      0.0       0.0       0.0   0.0   \n",
       "2         318           макс      0.0      0.0       0.0       0.0   0.0   \n",
       "3         322           макс      0.0      0.0       0.0       0.0   0.0   \n",
       "4         368  одноклассники      0.0      0.0       0.0       0.0   0.0   \n",
       "...       ...            ...      ...      ...       ...       ...   ...   \n",
       "84792  299982           mail      0.0      0.0       0.0       0.0   0.0   \n",
       "84793  299986         skyeng      0.0      0.0       0.0       0.0   0.0   \n",
       "84794  299987         яндекс      0.0      0.0       0.0       0.0   0.0   \n",
       "84795  299995        spotify      0.0      0.0       0.0       0.0   0.0   \n",
       "84796  299999        spotify      0.0      0.0       0.0       0.0   0.0   \n",
       "\n",
       "       speech  \n",
       "0         0.0  \n",
       "1         0.0  \n",
       "2         0.0  \n",
       "3         0.0  \n",
       "4         0.0  \n",
       "...       ...  \n",
       "84792     0.0  \n",
       "84793     0.0  \n",
       "84794     0.0  \n",
       "84795     0.0  \n",
       "84796     0.0  \n",
       "\n",
       "[84797 rows x 8 columns]"
      ]
     },
     "execution_count": 69,
     "metadata": {},
     "output_type": "execute_result"
    }
   ],
   "source": [
    "df_companies_sent"
   ]
  },
  {
   "cell_type": "code",
   "execution_count": 71,
   "id": "256b30c0",
   "metadata": {},
   "outputs": [],
   "source": [
    "comp_sent = df_companies_sent.groupby('companies').agg({'neutral':'mean', 'negative': 'mean', 'positive': 'mean'}).reset_index()"
   ]
  },
  {
   "cell_type": "code",
   "execution_count": 74,
   "id": "b57ecfac",
   "metadata": {},
   "outputs": [],
   "source": [
    "comp_sent.to_csv('./vc/vc_sent.csv', index=False)"
   ]
  },
  {
   "cell_type": "code",
   "execution_count": null,
   "id": "c60e415f",
   "metadata": {},
   "outputs": [],
   "source": []
  }
 ],
 "metadata": {
  "kernelspec": {
   "display_name": "Python 3 (ipykernel)",
   "language": "python",
   "name": "python3"
  },
  "language_info": {
   "codemirror_mode": {
    "name": "ipython",
    "version": 3
   },
   "file_extension": ".py",
   "mimetype": "text/x-python",
   "name": "python",
   "nbconvert_exporter": "python",
   "pygments_lexer": "ipython3",
   "version": "3.9.9"
  }
 },
 "nbformat": 4,
 "nbformat_minor": 5
}
