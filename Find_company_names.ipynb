{
 "cells": [
  {
   "cell_type": "code",
   "execution_count": 11,
   "id": "8b06b251",
   "metadata": {},
   "outputs": [],
   "source": [
    "import requests\n",
    "from bs4 import BeautifulSoup\n",
    "from tqdm import tqdm\n",
    "from lxml import html"
   ]
  },
  {
   "cell_type": "code",
   "execution_count": 12,
   "id": "74bf2dc9",
   "metadata": {},
   "outputs": [],
   "source": [
    "comp_vc_url = 'https://vc.ru/subs/companies'"
   ]
  },
  {
   "cell_type": "code",
   "execution_count": 13,
   "id": "cff52cad",
   "metadata": {},
   "outputs": [],
   "source": [
    "r = requests.get(comp_vc_url)"
   ]
  },
  {
   "cell_type": "code",
   "execution_count": 14,
   "id": "af733af8",
   "metadata": {},
   "outputs": [],
   "source": [
    "soup = BeautifulSoup(r.text, 'lxml')"
   ]
  },
  {
   "cell_type": "code",
   "execution_count": 15,
   "id": "7629bd36",
   "metadata": {},
   "outputs": [],
   "source": [
    "companies_vc = []\n",
    "status_vc = ['подписаться', 'отписаться', 'подписан', 'подписки', 'компании', '']\n",
    "for child in soup.recursiveChildGenerator():\n",
    "    text = child.text.strip().lower()\n",
    "    if child.name == 'span' and (not text in status_vc) and (not 'ваканс' in text):\n",
    "        companies_vc.append(child.text.strip().lower())"
   ]
  },
  {
   "cell_type": "code",
   "execution_count": 17,
   "id": "b70639fc",
   "metadata": {},
   "outputs": [
    {
     "data": {
      "text/plain": [
       "476"
      ]
     },
     "execution_count": 17,
     "metadata": {},
     "output_type": "execute_result"
    }
   ],
   "source": [
    "len(companies_vc)"
   ]
  },
  {
   "cell_type": "code",
   "execution_count": 18,
   "id": "295823da",
   "metadata": {},
   "outputs": [],
   "source": [
    "with open('companies_vc.txt', 'w') as f:\n",
    "    f.write('\\n'.join(companies_vc))"
   ]
  },
  {
   "cell_type": "code",
   "execution_count": 9,
   "id": "e92d5712",
   "metadata": {},
   "outputs": [],
   "source": [
    "#with open('companies_vc.txt', 'r') as f:\n",
    "#    data = f.read()"
   ]
  },
  {
   "cell_type": "code",
   "execution_count": 8,
   "id": "7e600bc8",
   "metadata": {},
   "outputs": [],
   "source": [
    "def find_companies_from_habr(string):\n",
    "    tree = html.fromstring(string)\n",
    "    elements = tree.findall(\".//a[@class='title'][@target='blank']\")\n",
    "    companies_habr = [elem.text.lower() for elem in elements]\n",
    "    return companies_habr, len(companies_habr)"
   ]
  },
  {
   "cell_type": "code",
   "execution_count": 9,
   "id": "bb8d5ff6",
   "metadata": {},
   "outputs": [
    {
     "name": "stderr",
     "output_type": "stream",
     "text": [
      " 10%|███▋                                | 1010/10000 [22:11<3:17:34,  1.32s/it]\n"
     ]
    }
   ],
   "source": [
    "#### Переписать with exception\n",
    "from time import sleep\n",
    "comp_habr_url = 'https://career.habr.com/companies?'\n",
    "i = 1\n",
    "companies_habr = []\n",
    "pbar = tqdm(total=10000)\n",
    "len_delta = 1\n",
    "while r.ok == True or len_delta != 0:\n",
    "    if i == 1:\n",
    "        page_url = comp_habr_url\n",
    "    else:\n",
    "        page_url = comp_habr_url + 'page=' + str(i)      \n",
    "    try:\n",
    "        r = requests.get(page_url)\n",
    "        delta, len_delta = find_companies_from_habr(r.text)\n",
    "        if r.ok != True or len_delta == 0:\n",
    "            break\n",
    "        else:\n",
    "            companies_habr += delta.copy()\n",
    "            i += 1\n",
    "            pbar.update(1)\n",
    "            #print(companies_habr)\n",
    "        \n",
    "    except requests.exceptions.ConnectionError:\n",
    "        sleep(60)\n",
    "        pass\n",
    "        \n",
    "pbar.close()"
   ]
  },
  {
   "cell_type": "code",
   "execution_count": 10,
   "id": "4c225225",
   "metadata": {},
   "outputs": [],
   "source": [
    "with open('companies_habr.txt', 'w') as f:\n",
    "    f.write('\\n'.join(companies_habr))"
   ]
  },
  {
   "cell_type": "code",
   "execution_count": null,
   "id": "cabc32a7",
   "metadata": {},
   "outputs": [],
   "source": []
  }
 ],
 "metadata": {
  "kernelspec": {
   "display_name": "Python 3 (ipykernel)",
   "language": "python",
   "name": "python3"
  },
  "language_info": {
   "codemirror_mode": {
    "name": "ipython",
    "version": 3
   },
   "file_extension": ".py",
   "mimetype": "text/x-python",
   "name": "python",
   "nbconvert_exporter": "python",
   "pygments_lexer": "ipython3",
   "version": "3.9.9"
  }
 },
 "nbformat": 4,
 "nbformat_minor": 5
}
